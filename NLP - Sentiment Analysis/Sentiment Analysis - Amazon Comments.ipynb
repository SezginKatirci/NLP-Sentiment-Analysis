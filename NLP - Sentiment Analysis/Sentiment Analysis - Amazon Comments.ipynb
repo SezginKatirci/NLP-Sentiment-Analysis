{
 "cells": [
  {
   "cell_type": "code",
   "execution_count": 1,
   "id": "af3195a0-87c9-4a81-88c3-7504d94fe69b",
   "metadata": {},
   "outputs": [],
   "source": [
    "import numpy as np\n",
    "import pandas as pd\n",
    "import re\n",
    "import nltk   \n",
    "import random\n",
    "from nltk.corpus import stopwords\n",
    "from textblob import Word, TextBlob\n",
    "from wordcloud import WordCloud\n",
    "import matplotlib.pyplot as plt\n",
    "from nltk.sentiment import SentimentIntensityAnalyzer\n",
    "from sklearn.preprocessing import LabelEncoder\n",
    "from sklearn.feature_extraction.text import TfidfVectorizer\n",
    "from sklearn.model_selection import train_test_split\n",
    "from sklearn.linear_model import LogisticRegression\n",
    "from sklearn.model_selection import cross_val_score, GridSearchCV, cross_validate\n",
    "from sklearn.metrics import classification_report\n",
    "from sklearn.ensemble import RandomForestClassifier"
   ]
  },
  {
   "cell_type": "markdown",
   "id": "3b7325d5-0cc6-4171-b35f-506234077981",
   "metadata": {},
   "source": [
    "# Verilere Genel Bir Bakış"
   ]
  },
  {
   "cell_type": "code",
   "execution_count": 2,
   "id": "0b0fd756-b92e-4120-a698-e44ada459f92",
   "metadata": {},
   "outputs": [
    {
     "data": {
      "text/html": [
       "<div>\n",
       "<style scoped>\n",
       "    .dataframe tbody tr th:only-of-type {\n",
       "        vertical-align: middle;\n",
       "    }\n",
       "\n",
       "    .dataframe tbody tr th {\n",
       "        vertical-align: top;\n",
       "    }\n",
       "\n",
       "    .dataframe thead th {\n",
       "        text-align: right;\n",
       "    }\n",
       "</style>\n",
       "<table border=\"1\" class=\"dataframe\">\n",
       "  <thead>\n",
       "    <tr style=\"text-align: right;\">\n",
       "      <th></th>\n",
       "      <th>Star</th>\n",
       "      <th>HelpFul</th>\n",
       "      <th>Title</th>\n",
       "      <th>Review</th>\n",
       "    </tr>\n",
       "  </thead>\n",
       "  <tbody>\n",
       "    <tr>\n",
       "      <th>0</th>\n",
       "      <td>5</td>\n",
       "      <td>0</td>\n",
       "      <td>looks great</td>\n",
       "      <td>Happy with it</td>\n",
       "    </tr>\n",
       "    <tr>\n",
       "      <th>1</th>\n",
       "      <td>5</td>\n",
       "      <td>0</td>\n",
       "      <td>Pattern did not align between the two panels.</td>\n",
       "      <td>Good quality material however the panels are m...</td>\n",
       "    </tr>\n",
       "    <tr>\n",
       "      <th>2</th>\n",
       "      <td>5</td>\n",
       "      <td>0</td>\n",
       "      <td>Imagery is stretched. Still fun.</td>\n",
       "      <td>Product was fun for bedroom windows.&lt;br /&gt;Imag...</td>\n",
       "    </tr>\n",
       "    <tr>\n",
       "      <th>3</th>\n",
       "      <td>5</td>\n",
       "      <td>0</td>\n",
       "      <td>Que se ven elegantes muy finas</td>\n",
       "      <td>Lo unico que me gustaria es que sean un poco ...</td>\n",
       "    </tr>\n",
       "    <tr>\n",
       "      <th>4</th>\n",
       "      <td>5</td>\n",
       "      <td>0</td>\n",
       "      <td>Wow great purchase</td>\n",
       "      <td>Great bang for the buck I can't believe the qu...</td>\n",
       "    </tr>\n",
       "  </tbody>\n",
       "</table>\n",
       "</div>"
      ],
      "text/plain": [
       "   Star  HelpFul                                          Title  \\\n",
       "0     5        0                                    looks great   \n",
       "1     5        0  Pattern did not align between the two panels.   \n",
       "2     5        0               Imagery is stretched. Still fun.   \n",
       "3     5        0                 Que se ven elegantes muy finas   \n",
       "4     5        0                             Wow great purchase   \n",
       "\n",
       "                                              Review  \n",
       "0                                      Happy with it  \n",
       "1  Good quality material however the panels are m...  \n",
       "2  Product was fun for bedroom windows.<br />Imag...  \n",
       "3   Lo unico que me gustaria es que sean un poco ...  \n",
       "4  Great bang for the buck I can't believe the qu...  "
      ]
     },
     "execution_count": 2,
     "metadata": {},
     "output_type": "execute_result"
    }
   ],
   "source": [
    "df=pd.read_excel(\"C:\\\\Users\\\\Dell\\\\Desktop\\\\NLP\\\\Case Study 1\\\\amazon.xlsx\")\n",
    "df.head()"
   ]
  },
  {
   "cell_type": "code",
   "execution_count": 3,
   "id": "73cc3cfc-c9f6-42d0-9b12-745d05fb957d",
   "metadata": {},
   "outputs": [
    {
     "data": {
      "text/html": [
       "<div>\n",
       "<style scoped>\n",
       "    .dataframe tbody tr th:only-of-type {\n",
       "        vertical-align: middle;\n",
       "    }\n",
       "\n",
       "    .dataframe tbody tr th {\n",
       "        vertical-align: top;\n",
       "    }\n",
       "\n",
       "    .dataframe thead th {\n",
       "        text-align: right;\n",
       "    }\n",
       "</style>\n",
       "<table border=\"1\" class=\"dataframe\">\n",
       "  <thead>\n",
       "    <tr style=\"text-align: right;\">\n",
       "      <th></th>\n",
       "      <th>Star</th>\n",
       "      <th>HelpFul</th>\n",
       "      <th>Title</th>\n",
       "      <th>Review</th>\n",
       "    </tr>\n",
       "  </thead>\n",
       "  <tbody>\n",
       "    <tr>\n",
       "      <th>5606</th>\n",
       "      <td>4</td>\n",
       "      <td>0</td>\n",
       "      <td>Recommend</td>\n",
       "      <td>Great product for reasonable money.  Delivered...</td>\n",
       "    </tr>\n",
       "    <tr>\n",
       "      <th>5607</th>\n",
       "      <td>5</td>\n",
       "      <td>0</td>\n",
       "      <td>Terrible , different colors. I returned</td>\n",
       "      <td>Color is way off and panels do not match</td>\n",
       "    </tr>\n",
       "    <tr>\n",
       "      <th>5608</th>\n",
       "      <td>5</td>\n",
       "      <td>0</td>\n",
       "      <td>Extremely pleasing</td>\n",
       "      <td>These are great for my studio as they compleme...</td>\n",
       "    </tr>\n",
       "    <tr>\n",
       "      <th>5609</th>\n",
       "      <td>5</td>\n",
       "      <td>0</td>\n",
       "      <td>Perfect</td>\n",
       "      <td>Brought out the beauty in kids room. They love...</td>\n",
       "    </tr>\n",
       "    <tr>\n",
       "      <th>5610</th>\n",
       "      <td>4</td>\n",
       "      <td>0</td>\n",
       "      <td>Quality Curtains for the price</td>\n",
       "      <td>Very cute curtains in my sons room! Thick enou...</td>\n",
       "    </tr>\n",
       "  </tbody>\n",
       "</table>\n",
       "</div>"
      ],
      "text/plain": [
       "      Star  HelpFul                                    Title  \\\n",
       "5606     4        0                                Recommend   \n",
       "5607     5        0  Terrible , different colors. I returned   \n",
       "5608     5        0                       Extremely pleasing   \n",
       "5609     5        0                                  Perfect   \n",
       "5610     4        0           Quality Curtains for the price   \n",
       "\n",
       "                                                 Review  \n",
       "5606  Great product for reasonable money.  Delivered...  \n",
       "5607           Color is way off and panels do not match  \n",
       "5608  These are great for my studio as they compleme...  \n",
       "5609  Brought out the beauty in kids room. They love...  \n",
       "5610  Very cute curtains in my sons room! Thick enou...  "
      ]
     },
     "execution_count": 3,
     "metadata": {},
     "output_type": "execute_result"
    }
   ],
   "source": [
    "df.tail()"
   ]
  },
  {
   "cell_type": "code",
   "execution_count": 4,
   "id": "9e50fadb-04a2-48fa-9741-80e64a2901ce",
   "metadata": {},
   "outputs": [
    {
     "name": "stdout",
     "output_type": "stream",
     "text": [
      "<class 'pandas.core.frame.DataFrame'>\n",
      "RangeIndex: 5611 entries, 0 to 5610\n",
      "Data columns (total 4 columns):\n",
      " #   Column   Non-Null Count  Dtype \n",
      "---  ------   --------------  ----- \n",
      " 0   Star     5611 non-null   int64 \n",
      " 1   HelpFul  5611 non-null   int64 \n",
      " 2   Title    5559 non-null   object\n",
      " 3   Review   5593 non-null   object\n",
      "dtypes: int64(2), object(2)\n",
      "memory usage: 175.5+ KB\n"
     ]
    }
   ],
   "source": [
    "df.info()"
   ]
  },
  {
   "cell_type": "code",
   "execution_count": 5,
   "id": "eb928f66-24d3-4051-bede-f50228303e06",
   "metadata": {},
   "outputs": [
    {
     "data": {
      "text/plain": [
       "Star        0\n",
       "HelpFul     0\n",
       "Title      52\n",
       "Review     18\n",
       "dtype: int64"
      ]
     },
     "execution_count": 5,
     "metadata": {},
     "output_type": "execute_result"
    }
   ],
   "source": [
    "df.isnull().sum()"
   ]
  },
  {
   "cell_type": "code",
   "execution_count": 6,
   "id": "2128b06f-3f67-47de-bdf6-b85f47123044",
   "metadata": {},
   "outputs": [
    {
     "data": {
      "text/plain": [
       "Star\n",
       "5    4126\n",
       "4     588\n",
       "1     368\n",
       "3     315\n",
       "2     214\n",
       "Name: count, dtype: int64"
      ]
     },
     "execution_count": 6,
     "metadata": {},
     "output_type": "execute_result"
    }
   ],
   "source": [
    "df[\"Star\"].value_counts()"
   ]
  },
  {
   "cell_type": "code",
   "execution_count": 7,
   "id": "10ca60ac-baf6-48f8-8440-f1f4683619a5",
   "metadata": {},
   "outputs": [
    {
     "data": {
      "text/html": [
       "<div>\n",
       "<style scoped>\n",
       "    .dataframe tbody tr th:only-of-type {\n",
       "        vertical-align: middle;\n",
       "    }\n",
       "\n",
       "    .dataframe tbody tr th {\n",
       "        vertical-align: top;\n",
       "    }\n",
       "\n",
       "    .dataframe thead th {\n",
       "        text-align: right;\n",
       "    }\n",
       "</style>\n",
       "<table border=\"1\" class=\"dataframe\">\n",
       "  <thead>\n",
       "    <tr style=\"text-align: right;\">\n",
       "      <th></th>\n",
       "      <th>count</th>\n",
       "      <th>mean</th>\n",
       "      <th>std</th>\n",
       "      <th>min</th>\n",
       "      <th>25%</th>\n",
       "      <th>50%</th>\n",
       "      <th>75%</th>\n",
       "      <th>max</th>\n",
       "    </tr>\n",
       "  </thead>\n",
       "  <tbody>\n",
       "    <tr>\n",
       "      <th>Star</th>\n",
       "      <td>5611.0</td>\n",
       "      <td>4.406166</td>\n",
       "      <td>1.170291</td>\n",
       "      <td>1.0</td>\n",
       "      <td>4.0</td>\n",
       "      <td>5.0</td>\n",
       "      <td>5.0</td>\n",
       "      <td>5.0</td>\n",
       "    </tr>\n",
       "    <tr>\n",
       "      <th>HelpFul</th>\n",
       "      <td>5611.0</td>\n",
       "      <td>0.984495</td>\n",
       "      <td>4.109631</td>\n",
       "      <td>0.0</td>\n",
       "      <td>0.0</td>\n",
       "      <td>0.0</td>\n",
       "      <td>1.0</td>\n",
       "      <td>124.0</td>\n",
       "    </tr>\n",
       "  </tbody>\n",
       "</table>\n",
       "</div>"
      ],
      "text/plain": [
       "          count      mean       std  min  25%  50%  75%    max\n",
       "Star     5611.0  4.406166  1.170291  1.0  4.0  5.0  5.0    5.0\n",
       "HelpFul  5611.0  0.984495  4.109631  0.0  0.0  0.0  1.0  124.0"
      ]
     },
     "execution_count": 7,
     "metadata": {},
     "output_type": "execute_result"
    }
   ],
   "source": [
    "df.describe().T"
   ]
  },
  {
   "cell_type": "markdown",
   "id": "07453114-dc90-46d6-8792-ca91c7c4af0d",
   "metadata": {},
   "source": [
    "# Metin Ön İşleme"
   ]
  },
  {
   "cell_type": "code",
   "execution_count": 8,
   "id": "ffc7115a-473f-4fdf-9b89-649026d95bf7",
   "metadata": {},
   "outputs": [
    {
     "data": {
      "text/plain": [
       "0                                           happy with it\n",
       "1       good quality material however the panels are m...\n",
       "2       product was fun for bedroom windows.<br />imag...\n",
       "3        lo unico que me gustaria es que sean un poco ...\n",
       "4       great bang for the buck i can't believe the qu...\n",
       "                              ...                        \n",
       "5606    great product for reasonable money.  delivered...\n",
       "5607             color is way off and panels do not match\n",
       "5608    these are great for my studio as they compleme...\n",
       "5609    brought out the beauty in kids room. they love...\n",
       "5610    very cute curtains in my sons room! thick enou...\n",
       "Name: Review, Length: 5611, dtype: object"
      ]
     },
     "execution_count": 8,
     "metadata": {},
     "output_type": "execute_result"
    }
   ],
   "source": [
    "df[\"Review\"]=df[\"Review\"].str.lower() # küçük harfe çevirme\n",
    "df[\"Review\"]"
   ]
  },
  {
   "cell_type": "code",
   "execution_count": 9,
   "id": "10763ef3-0466-468d-819f-c5aa67eac7f8",
   "metadata": {},
   "outputs": [
    {
     "data": {
      "text/plain": [
       "0                                           happy with it\n",
       "1       good quality material however the panels are m...\n",
       "2       product was fun for bedroom windowsbr imagery ...\n",
       "3        lo unico que me gustaria es que sean un poco ...\n",
       "4       great bang for the buck i cant believe the qua...\n",
       "                              ...                        \n",
       "5606    great product for reasonable money  delivered ...\n",
       "5607             color is way off and panels do not match\n",
       "5608    these are great for my studio as they compleme...\n",
       "5609     brought out the beauty in kids room they love it\n",
       "5610    very cute curtains in my sons room thick enoug...\n",
       "Name: Review, Length: 5611, dtype: object"
      ]
     },
     "execution_count": 9,
     "metadata": {},
     "output_type": "execute_result"
    }
   ],
   "source": [
    "# noktalama işaretlerini kaldırma\n",
    "df[\"Review\"]=df['Review'].apply(lambda x: re.sub(\"[^\\w\\s]\",\"\", str(x)))\n",
    "df[\"Review\"]"
   ]
  },
  {
   "cell_type": "code",
   "execution_count": 10,
   "id": "ef1f727a-0edb-4185-b612-8b92468b9852",
   "metadata": {},
   "outputs": [
    {
     "data": {
      "text/plain": [
       "125    great i feel like ive gone to tahiti i placed ...\n",
       "126    i purchased the 4 seasons print and couldnt be...\n",
       "127    it does not look as vibrant and dramatic as th...\n",
       "128    i wish they had wider ones but the 108 inches ...\n",
       "129    really pretty design looks just like the pictu...\n",
       "Name: Review, dtype: object"
      ]
     },
     "execution_count": 10,
     "metadata": {},
     "output_type": "execute_result"
    }
   ],
   "source": [
    "df[\"Review\"][125:130] "
   ]
  },
  {
   "cell_type": "code",
   "execution_count": 11,
   "id": "ae40e58f-5202-42c9-8c4a-7d13dd1dd93d",
   "metadata": {},
   "outputs": [
    {
     "data": {
      "text/plain": [
       "125    great i feel like ive gone to tahiti i placed ...\n",
       "126    i purchased the  seasons print and couldnt be ...\n",
       "127    it does not look as vibrant and dramatic as th...\n",
       "128    i wish they had wider ones but the  inches fit...\n",
       "129    really pretty design looks just like the pictu...\n",
       "Name: Review, dtype: object"
      ]
     },
     "execution_count": 11,
     "metadata": {},
     "output_type": "execute_result"
    }
   ],
   "source": [
    "df[\"Review\"]=df['Review'].fillna('').apply(lambda x: ''.join([i for i in x if not i.isdigit()])) # sayısal ifadeleri kaldırma\n",
    "df[\"Review\"][125:130]"
   ]
  },
  {
   "cell_type": "code",
   "execution_count": 12,
   "id": "0d5b63b2-1de2-42bb-bc99-06d5fe65f0c9",
   "metadata": {},
   "outputs": [
    {
     "name": "stderr",
     "output_type": "stream",
     "text": [
      "[nltk_data] Downloading package stopwords to\n",
      "[nltk_data]     C:\\Users\\Dell\\AppData\\Roaming\\nltk_data...\n",
      "[nltk_data]   Package stopwords is already up-to-date!\n"
     ]
    }
   ],
   "source": [
    "# stopwords kelimelerini kaldırma\n",
    "nltk.download(\"stopwords\")\n",
    "sw=stopwords.words(\"english\")"
   ]
  },
  {
   "cell_type": "code",
   "execution_count": 13,
   "id": "ed70d449-3e5b-45a9-b151-82be482a7200",
   "metadata": {},
   "outputs": [
    {
     "data": {
      "text/plain": [
       "0                                                   happy\n",
       "1         good quality material however panels mismatched\n",
       "2       product fun bedroom windowsbr imagery bit stre...\n",
       "3       lo unico que gustaria es que sean un poco mas ...\n",
       "4       great bang buck cant believe quality material ...\n",
       "                              ...                        \n",
       "5606    great product reasonable money delivered quick...\n",
       "5607                               color way panels match\n",
       "5608    great studio complement entire theme studioliv...\n",
       "5609                        brought beauty kids room love\n",
       "5610      cute curtains sons room thick enough keep light\n",
       "Name: Review, Length: 5611, dtype: object"
      ]
     },
     "execution_count": 13,
     "metadata": {},
     "output_type": "execute_result"
    }
   ],
   "source": [
    "df[\"Review\"]=df[\"Review\"].apply(lambda x: \" \".join(x for x in str(x).split() if x not in sw))\n",
    "df[\"Review\"]"
   ]
  },
  {
   "cell_type": "code",
   "execution_count": 14,
   "id": "8a8a7a9f-51e3-45bd-b648-3ce2b799231a",
   "metadata": {},
   "outputs": [
    {
     "data": {
      "text/plain": [
       "curtains        1891\n",
       "love            1312\n",
       "room            1116\n",
       "like            1037\n",
       "beautiful        943\n",
       "                ... \n",
       "encantarón         1\n",
       "neato              1\n",
       "decormatches       1\n",
       "thx                1\n",
       "studioliving       1\n",
       "Name: count, Length: 6698, dtype: int64"
      ]
     },
     "execution_count": 14,
     "metadata": {},
     "output_type": "execute_result"
    }
   ],
   "source": [
    "temp_df=pd.Series(\" \".join(df[\"Review\"]).split()).value_counts() #1000 den az olan kelimeleri df den çıkartıyoruz.\n",
    "temp_df"
   ]
  },
  {
   "cell_type": "code",
   "execution_count": 15,
   "id": "47299a86-7814-4046-9045-4091aa477a79",
   "metadata": {},
   "outputs": [
    {
     "data": {
      "text/plain": [
       "vaulted         1\n",
       "umph            1\n",
       "reevaluated     1\n",
       "grass           1\n",
       "remodeling      1\n",
       "               ..\n",
       "encantarón      1\n",
       "neato           1\n",
       "decormatches    1\n",
       "thx             1\n",
       "studioliving    1\n",
       "Name: count, Length: 3694, dtype: int64"
      ]
     },
     "execution_count": 15,
     "metadata": {},
     "output_type": "execute_result"
    }
   ],
   "source": [
    "drops=temp_df[temp_df<2]\n",
    "drops"
   ]
  },
  {
   "cell_type": "code",
   "execution_count": 16,
   "id": "94e2519b-9b9a-40d3-89f9-049f542ca165",
   "metadata": {},
   "outputs": [
    {
     "data": {
      "text/plain": [
       "0                                                   happy\n",
       "1                    good quality material however panels\n",
       "2       product fun bedroom windowsbr imagery bit stre...\n",
       "3                               lo que es que un poco mas\n",
       "4       great bang buck cant believe quality material ...\n",
       "                              ...                        \n",
       "5606    great product reasonable money delivered quick...\n",
       "5607                               color way panels match\n",
       "5608    great studio complement entire theme area phot...\n",
       "5609                        brought beauty kids room love\n",
       "5610      cute curtains sons room thick enough keep light\n",
       "Name: Review, Length: 5611, dtype: object"
      ]
     },
     "execution_count": 16,
     "metadata": {},
     "output_type": "execute_result"
    }
   ],
   "source": [
    "df[\"Review\"]=df[\"Review\"].apply(lambda x: \" \".join(x for x in str(x).split() if x not in drops))\n",
    "df[\"Review\"]"
   ]
  },
  {
   "cell_type": "code",
   "execution_count": 17,
   "id": "d9dd41c7-9f5c-4619-803a-0351d8f2812f",
   "metadata": {},
   "outputs": [
    {
     "data": {
      "text/plain": [
       "0                                                   happy\n",
       "1                     good quality material however panel\n",
       "2       product fun bedroom windowsbr imagery bit stre...\n",
       "3                                 lo que e que un poco ma\n",
       "4       great bang buck cant believe quality material ...\n",
       "                              ...                        \n",
       "5606    great product reasonable money delivered quick...\n",
       "5607                                color way panel match\n",
       "5608    great studio complement entire theme area phot...\n",
       "5609                         brought beauty kid room love\n",
       "5610        cute curtain son room thick enough keep light\n",
       "Name: Review, Length: 5611, dtype: object"
      ]
     },
     "execution_count": 17,
     "metadata": {},
     "output_type": "execute_result"
    }
   ],
   "source": [
    "# lemmatization\n",
    "df['Review'] = df['Review'].apply(lambda x: \" \".join([Word(word).lemmatize() for word in x.split()]))\n",
    "df['Review']"
   ]
  },
  {
   "cell_type": "markdown",
   "id": "5212783f-9f9b-4c7e-b46d-92ae34ffa2e4",
   "metadata": {},
   "source": [
    "# Metin Görselleştirme"
   ]
  },
  {
   "cell_type": "code",
   "execution_count": 18,
   "id": "9755f4b3-ca53-47a3-ab02-2d4d36641bff",
   "metadata": {},
   "outputs": [
    {
     "data": {
      "text/html": [
       "<div>\n",
       "<style scoped>\n",
       "    .dataframe tbody tr th:only-of-type {\n",
       "        vertical-align: middle;\n",
       "    }\n",
       "\n",
       "    .dataframe tbody tr th {\n",
       "        vertical-align: top;\n",
       "    }\n",
       "\n",
       "    .dataframe thead th {\n",
       "        text-align: right;\n",
       "    }\n",
       "</style>\n",
       "<table border=\"1\" class=\"dataframe\">\n",
       "  <thead>\n",
       "    <tr style=\"text-align: right;\">\n",
       "      <th></th>\n",
       "      <th>words</th>\n",
       "      <th>tf</th>\n",
       "    </tr>\n",
       "  </thead>\n",
       "  <tbody>\n",
       "    <tr>\n",
       "      <th>0</th>\n",
       "      <td>curtains</td>\n",
       "      <td>1891</td>\n",
       "    </tr>\n",
       "    <tr>\n",
       "      <th>1</th>\n",
       "      <td>love</td>\n",
       "      <td>1312</td>\n",
       "    </tr>\n",
       "    <tr>\n",
       "      <th>2</th>\n",
       "      <td>room</td>\n",
       "      <td>1116</td>\n",
       "    </tr>\n",
       "    <tr>\n",
       "      <th>3</th>\n",
       "      <td>like</td>\n",
       "      <td>1037</td>\n",
       "    </tr>\n",
       "    <tr>\n",
       "      <th>4</th>\n",
       "      <td>beautiful</td>\n",
       "      <td>943</td>\n",
       "    </tr>\n",
       "  </tbody>\n",
       "</table>\n",
       "</div>"
      ],
      "text/plain": [
       "       words    tf\n",
       "0   curtains  1891\n",
       "1       love  1312\n",
       "2       room  1116\n",
       "3       like  1037\n",
       "4  beautiful   943"
      ]
     },
     "execution_count": 18,
     "metadata": {},
     "output_type": "execute_result"
    }
   ],
   "source": [
    "tf=pd.DataFrame(temp_df)\n",
    "tf.reset_index(inplace=True)\n",
    "tf.columns=[\"words\",\"tf\"]\n",
    "tf.head()"
   ]
  },
  {
   "cell_type": "code",
   "execution_count": 19,
   "id": "79205873-7496-4612-b6c3-790151c94e66",
   "metadata": {},
   "outputs": [
    {
     "data": {
      "image/png": "[encoded data removed]",
      "text/plain": [
       "<Figure size 640x480 with 1 Axes>"
      ]
     },
     "metadata": {},
     "output_type": "display_data"
    }
   ],
   "source": [
    "tf[tf[\"tf\"]>500].plot.bar(x=\"words\",y=\"tf\");"
   ]
  },
  {
   "cell_type": "code",
   "execution_count": 20,
   "id": "591d75df-0731-454f-be18-5dedc2c6ed57",
   "metadata": {},
   "outputs": [],
   "source": [
    "text=\" \".join(i for i in df.Review)"
   ]
  },
  {
   "cell_type": "code",
   "execution_count": 21,
   "id": "b64d6c15-92d7-4fa7-b49b-d4ef8bc2885f",
   "metadata": {},
   "outputs": [
    {
     "data": {
      "image/png": "[encoded data removed]",
      "text/plain": [
       "<Figure size 640x480 with 1 Axes>"
      ]
     },
     "metadata": {},
     "output_type": "display_data"
    }
   ],
   "source": [
    "wordcloud=WordCloud(max_font_size=1000, max_words=100, background_color=\"black\").generate(text)\n",
    "plt.figure()\n",
    "plt.imshow(wordcloud,interpolation=\"bilinear\")\n",
    "plt.axis(\"off\")\n",
    "plt.show()"
   ]
  },
  {
   "cell_type": "markdown",
   "id": "14e3b6a2-db93-4635-b377-8390baef3639",
   "metadata": {},
   "source": [
    "# SentimentIntensityAnalyzer"
   ]
  },
  {
   "cell_type": "code",
   "execution_count": 22,
   "id": "24291721-6df9-4add-9d35-0f958da93fe9",
   "metadata": {},
   "outputs": [],
   "source": [
    "sia=SentimentIntensityAnalyzer()"
   ]
  },
  {
   "cell_type": "code",
   "execution_count": 23,
   "id": "4be7c250-e4ea-49b9-8df1-0628657e5e5e",
   "metadata": {},
   "outputs": [
    {
     "data": {
      "text/html": [
       "<div>\n",
       "<style scoped>\n",
       "    .dataframe tbody tr th:only-of-type {\n",
       "        vertical-align: middle;\n",
       "    }\n",
       "\n",
       "    .dataframe tbody tr th {\n",
       "        vertical-align: top;\n",
       "    }\n",
       "\n",
       "    .dataframe thead th {\n",
       "        text-align: right;\n",
       "    }\n",
       "</style>\n",
       "<table border=\"1\" class=\"dataframe\">\n",
       "  <thead>\n",
       "    <tr style=\"text-align: right;\">\n",
       "      <th></th>\n",
       "      <th>Star</th>\n",
       "      <th>HelpFul</th>\n",
       "      <th>Title</th>\n",
       "      <th>Review</th>\n",
       "      <th>sentiment_label</th>\n",
       "    </tr>\n",
       "  </thead>\n",
       "  <tbody>\n",
       "    <tr>\n",
       "      <th>0</th>\n",
       "      <td>5</td>\n",
       "      <td>0</td>\n",
       "      <td>looks great</td>\n",
       "      <td>happy</td>\n",
       "      <td>pos</td>\n",
       "    </tr>\n",
       "    <tr>\n",
       "      <th>1</th>\n",
       "      <td>5</td>\n",
       "      <td>0</td>\n",
       "      <td>Pattern did not align between the two panels.</td>\n",
       "      <td>good quality material however panel</td>\n",
       "      <td>pos</td>\n",
       "    </tr>\n",
       "    <tr>\n",
       "      <th>2</th>\n",
       "      <td>5</td>\n",
       "      <td>0</td>\n",
       "      <td>Imagery is stretched. Still fun.</td>\n",
       "      <td>product fun bedroom windowsbr imagery bit stre...</td>\n",
       "      <td>pos</td>\n",
       "    </tr>\n",
       "    <tr>\n",
       "      <th>3</th>\n",
       "      <td>5</td>\n",
       "      <td>0</td>\n",
       "      <td>Que se ven elegantes muy finas</td>\n",
       "      <td>lo que e que un poco ma</td>\n",
       "      <td>nef</td>\n",
       "    </tr>\n",
       "    <tr>\n",
       "      <th>4</th>\n",
       "      <td>5</td>\n",
       "      <td>0</td>\n",
       "      <td>Wow great purchase</td>\n",
       "      <td>great bang buck cant believe quality material ...</td>\n",
       "      <td>pos</td>\n",
       "    </tr>\n",
       "    <tr>\n",
       "      <th>5</th>\n",
       "      <td>5</td>\n",
       "      <td>0</td>\n",
       "      <td>Not for us</td>\n",
       "      <td>look different photo</td>\n",
       "      <td>nef</td>\n",
       "    </tr>\n",
       "    <tr>\n",
       "      <th>6</th>\n",
       "      <td>5</td>\n",
       "      <td>0</td>\n",
       "      <td>Perfect for spa room</td>\n",
       "      <td>exactly looking heavy material great price fast</td>\n",
       "      <td>pos</td>\n",
       "    </tr>\n",
       "    <tr>\n",
       "      <th>7</th>\n",
       "      <td>5</td>\n",
       "      <td>0</td>\n",
       "      <td>Actually better than expected</td>\n",
       "      <td>looking picture thought curtain would thinner ...</td>\n",
       "      <td>pos</td>\n",
       "    </tr>\n",
       "    <tr>\n",
       "      <th>8</th>\n",
       "      <td>4</td>\n",
       "      <td>0</td>\n",
       "      <td>Not what expected</td>\n",
       "      <td>much thought would wasnt really expecting want...</td>\n",
       "      <td>nef</td>\n",
       "    </tr>\n",
       "    <tr>\n",
       "      <th>9</th>\n",
       "      <td>5</td>\n",
       "      <td>0</td>\n",
       "      <td>Pretty as a Picture</td>\n",
       "      <td>curtain picture show rd set ambesonne curtain ...</td>\n",
       "      <td>pos</td>\n",
       "    </tr>\n",
       "  </tbody>\n",
       "</table>\n",
       "</div>"
      ],
      "text/plain": [
       "   Star  HelpFul                                          Title  \\\n",
       "0     5        0                                    looks great   \n",
       "1     5        0  Pattern did not align between the two panels.   \n",
       "2     5        0               Imagery is stretched. Still fun.   \n",
       "3     5        0                 Que se ven elegantes muy finas   \n",
       "4     5        0                             Wow great purchase   \n",
       "5     5        0                                     Not for us   \n",
       "6     5        0                           Perfect for spa room   \n",
       "7     5        0                  Actually better than expected   \n",
       "8     4        0                              Not what expected   \n",
       "9     5        0                            Pretty as a Picture   \n",
       "\n",
       "                                              Review sentiment_label  \n",
       "0                                              happy             pos  \n",
       "1                good quality material however panel             pos  \n",
       "2  product fun bedroom windowsbr imagery bit stre...             pos  \n",
       "3                            lo que e que un poco ma             nef  \n",
       "4  great bang buck cant believe quality material ...             pos  \n",
       "5                               look different photo             nef  \n",
       "6    exactly looking heavy material great price fast             pos  \n",
       "7  looking picture thought curtain would thinner ...             pos  \n",
       "8  much thought would wasnt really expecting want...             nef  \n",
       "9  curtain picture show rd set ambesonne curtain ...             pos  "
      ]
     },
     "execution_count": 23,
     "metadata": {},
     "output_type": "execute_result"
    }
   ],
   "source": [
    "df[\"sentiment_label\"]=df[\"Review\"].apply(lambda x: \"pos\" if sia.polarity_scores(x)[\"compound\"]>0 else \"nef\")\n",
    "df.head(10)"
   ]
  },
  {
   "cell_type": "code",
   "execution_count": 24,
   "id": "1caf13fc-8368-4867-afe4-fa15b56a3e28",
   "metadata": {},
   "outputs": [
    {
     "data": {
      "text/html": [
       "<div>\n",
       "<style scoped>\n",
       "    .dataframe tbody tr th:only-of-type {\n",
       "        vertical-align: middle;\n",
       "    }\n",
       "\n",
       "    .dataframe tbody tr th {\n",
       "        vertical-align: top;\n",
       "    }\n",
       "\n",
       "    .dataframe thead th {\n",
       "        text-align: right;\n",
       "    }\n",
       "</style>\n",
       "<table border=\"1\" class=\"dataframe\">\n",
       "  <thead>\n",
       "    <tr style=\"text-align: right;\">\n",
       "      <th></th>\n",
       "      <th>Star</th>\n",
       "      <th>HelpFul</th>\n",
       "      <th>Title</th>\n",
       "      <th>Review</th>\n",
       "      <th>sentiment_label</th>\n",
       "    </tr>\n",
       "  </thead>\n",
       "  <tbody>\n",
       "    <tr>\n",
       "      <th>5601</th>\n",
       "      <td>5</td>\n",
       "      <td>0</td>\n",
       "      <td>Festive Addition</td>\n",
       "      <td>heavy good quality curtain image bright good f...</td>\n",
       "      <td>pos</td>\n",
       "    </tr>\n",
       "    <tr>\n",
       "      <th>5602</th>\n",
       "      <td>5</td>\n",
       "      <td>0</td>\n",
       "      <td>Tree life curtain</td>\n",
       "      <td>hung seam bottom even part longer others still...</td>\n",
       "      <td>pos</td>\n",
       "    </tr>\n",
       "    <tr>\n",
       "      <th>5603</th>\n",
       "      <td>5</td>\n",
       "      <td>0</td>\n",
       "      <td>Very pretty</td>\n",
       "      <td>using room divider privacy office much prettie...</td>\n",
       "      <td>pos</td>\n",
       "    </tr>\n",
       "    <tr>\n",
       "      <th>5604</th>\n",
       "      <td>5</td>\n",
       "      <td>0</td>\n",
       "      <td>Got my more than moneys worth</td>\n",
       "      <td>material way better photo provided happy purch...</td>\n",
       "      <td>pos</td>\n",
       "    </tr>\n",
       "    <tr>\n",
       "      <th>5605</th>\n",
       "      <td>5</td>\n",
       "      <td>0</td>\n",
       "      <td>My daughter loves these</td>\n",
       "      <td>long floor curtain rod cover short window well...</td>\n",
       "      <td>pos</td>\n",
       "    </tr>\n",
       "    <tr>\n",
       "      <th>5606</th>\n",
       "      <td>4</td>\n",
       "      <td>0</td>\n",
       "      <td>Recommend</td>\n",
       "      <td>great product reasonable money delivered quick...</td>\n",
       "      <td>pos</td>\n",
       "    </tr>\n",
       "    <tr>\n",
       "      <th>5607</th>\n",
       "      <td>5</td>\n",
       "      <td>0</td>\n",
       "      <td>Terrible , different colors. I returned</td>\n",
       "      <td>color way panel match</td>\n",
       "      <td>nef</td>\n",
       "    </tr>\n",
       "    <tr>\n",
       "      <th>5608</th>\n",
       "      <td>5</td>\n",
       "      <td>0</td>\n",
       "      <td>Extremely pleasing</td>\n",
       "      <td>great studio complement entire theme area phot...</td>\n",
       "      <td>pos</td>\n",
       "    </tr>\n",
       "    <tr>\n",
       "      <th>5609</th>\n",
       "      <td>5</td>\n",
       "      <td>0</td>\n",
       "      <td>Perfect</td>\n",
       "      <td>brought beauty kid room love</td>\n",
       "      <td>pos</td>\n",
       "    </tr>\n",
       "    <tr>\n",
       "      <th>5610</th>\n",
       "      <td>4</td>\n",
       "      <td>0</td>\n",
       "      <td>Quality Curtains for the price</td>\n",
       "      <td>cute curtain son room thick enough keep light</td>\n",
       "      <td>pos</td>\n",
       "    </tr>\n",
       "  </tbody>\n",
       "</table>\n",
       "</div>"
      ],
      "text/plain": [
       "      Star  HelpFul                                    Title  \\\n",
       "5601     5        0                         Festive Addition   \n",
       "5602     5        0                        Tree life curtain   \n",
       "5603     5        0                              Very pretty   \n",
       "5604     5        0            Got my more than moneys worth   \n",
       "5605     5        0                  My daughter loves these   \n",
       "5606     4        0                                Recommend   \n",
       "5607     5        0  Terrible , different colors. I returned   \n",
       "5608     5        0                       Extremely pleasing   \n",
       "5609     5        0                                  Perfect   \n",
       "5610     4        0           Quality Curtains for the price   \n",
       "\n",
       "                                                 Review sentiment_label  \n",
       "5601  heavy good quality curtain image bright good f...             pos  \n",
       "5602  hung seam bottom even part longer others still...             pos  \n",
       "5603  using room divider privacy office much prettie...             pos  \n",
       "5604  material way better photo provided happy purch...             pos  \n",
       "5605  long floor curtain rod cover short window well...             pos  \n",
       "5606  great product reasonable money delivered quick...             pos  \n",
       "5607                              color way panel match             nef  \n",
       "5608  great studio complement entire theme area phot...             pos  \n",
       "5609                       brought beauty kid room love             pos  \n",
       "5610      cute curtain son room thick enough keep light             pos  "
      ]
     },
     "execution_count": 24,
     "metadata": {},
     "output_type": "execute_result"
    }
   ],
   "source": [
    "df.tail(10)"
   ]
  },
  {
   "cell_type": "code",
   "execution_count": 25,
   "id": "2c77b954-31ca-4874-8ae4-edf001398704",
   "metadata": {},
   "outputs": [
    {
     "data": {
      "text/plain": [
       "sentiment_label\n",
       "pos    4764\n",
       "nef     847\n",
       "Name: count, dtype: int64"
      ]
     },
     "execution_count": 25,
     "metadata": {},
     "output_type": "execute_result"
    }
   ],
   "source": [
    "df[\"sentiment_label\"].value_counts()"
   ]
  },
  {
   "cell_type": "code",
   "execution_count": 26,
   "id": "56aefa50-1819-48f9-9029-a03c04dce5a8",
   "metadata": {},
   "outputs": [
    {
     "data": {
      "text/plain": [
       "sentiment_label\n",
       "nef    3.409681\n",
       "pos    4.583333\n",
       "Name: Star, dtype: float64"
      ]
     },
     "execution_count": 26,
     "metadata": {},
     "output_type": "execute_result"
    }
   ],
   "source": [
    "df.groupby(\"sentiment_label\")[\"Star\"].mean()"
   ]
  },
  {
   "cell_type": "markdown",
   "id": "383186f5-b041-44e0-8ec6-db3083b12e7a",
   "metadata": {},
   "source": [
    "# Modeli oluşturma"
   ]
  },
  {
   "cell_type": "code",
   "execution_count": 27,
   "id": "835bfa85-1e1c-4123-bed0-7a9962c70722",
   "metadata": {},
   "outputs": [],
   "source": [
    "df[\"sentiment_label\"]=LabelEncoder().fit_transform(df[\"sentiment_label\"])\n",
    "y=df[\"sentiment_label\"]\n",
    "X=df[\"Review\"]"
   ]
  },
  {
   "cell_type": "code",
   "execution_count": 28,
   "id": "3a4fdcc1-a9bb-4b2b-8320-d10bd89510dd",
   "metadata": {},
   "outputs": [],
   "source": [
    "x_train,x_test,y_train,y_test=train_test_split(X,y,random_state=14)"
   ]
  },
  {
   "cell_type": "code",
   "execution_count": 29,
   "id": "7f3b6301-fb4f-4c84-b076-f01b8bc8374a",
   "metadata": {},
   "outputs": [],
   "source": [
    "tf_idf=TfidfVectorizer().fit(x_train)\n",
    "x_train_tf_idf=tf_idf.transform(x_train)\n",
    "x_test_tf_idf=tf_idf.transform(x_test)"
   ]
  },
  {
   "cell_type": "markdown",
   "id": "b88cc57b-faa8-41f1-b578-73a2f501d942",
   "metadata": {},
   "source": [
    "# Makine Öğrenmesi"
   ]
  },
  {
   "cell_type": "code",
   "execution_count": 30,
   "id": "c86c72f6-169d-4462-9cf4-6046cddfeb26",
   "metadata": {},
   "outputs": [
    {
     "data": {
      "text/plain": [
       "0.8873550037987805"
      ]
     },
     "execution_count": 30,
     "metadata": {},
     "output_type": "execute_result"
    }
   ],
   "source": [
    "# Logistic Regression\n",
    "log_model=LogisticRegression().fit(x_train_tf_idf,y_train)\n",
    "cross_val_score(log_model,\n",
    "                x_train_tf_idf,\n",
    "                y_train,\n",
    "                scoring=\"accuracy\",\n",
    "                cv=5).mean()"
   ]
  },
  {
   "cell_type": "code",
   "execution_count": 31,
   "id": "2dc6449c-d9ec-425d-b5af-c83e39d1340f",
   "metadata": {},
   "outputs": [
    {
     "name": "stdout",
     "output_type": "stream",
     "text": [
      "              precision    recall  f1-score   support\n",
      "\n",
      "           0       0.28      0.94      0.43        65\n",
      "           1       1.00      0.88      0.94      1338\n",
      "\n",
      "    accuracy                           0.89      1403\n",
      "   macro avg       0.64      0.91      0.68      1403\n",
      "weighted avg       0.96      0.89      0.91      1403\n",
      "\n"
     ]
    }
   ],
   "source": [
    "y_pred=log_model.predict(x_test_tf_idf)\n",
    "print(classification_report(y_pred,y_test))"
   ]
  },
  {
   "cell_type": "code",
   "execution_count": 53,
   "id": "54e90c3c-8f3f-4ce6-8a4d-71a3befec231",
   "metadata": {},
   "outputs": [
    {
     "data": {
      "text/html": [
       "<div>\n",
       "<style scoped>\n",
       "    .dataframe tbody tr th:only-of-type {\n",
       "        vertical-align: middle;\n",
       "    }\n",
       "\n",
       "    .dataframe tbody tr th {\n",
       "        vertical-align: top;\n",
       "    }\n",
       "\n",
       "    .dataframe thead th {\n",
       "        text-align: right;\n",
       "    }\n",
       "</style>\n",
       "<table border=\"1\" class=\"dataframe\">\n",
       "  <thead>\n",
       "    <tr style=\"text-align: right;\">\n",
       "      <th></th>\n",
       "      <th>Review</th>\n",
       "      <th>real</th>\n",
       "      <th>predict</th>\n",
       "    </tr>\n",
       "  </thead>\n",
       "  <tbody>\n",
       "    <tr>\n",
       "      <th>589</th>\n",
       "      <td>cool</td>\n",
       "      <td>1</td>\n",
       "      <td>1</td>\n",
       "    </tr>\n",
       "    <tr>\n",
       "      <th>590</th>\n",
       "      <td>quality curtain beautiful picture</td>\n",
       "      <td>1</td>\n",
       "      <td>1</td>\n",
       "    </tr>\n",
       "    <tr>\n",
       "      <th>591</th>\n",
       "      <td>great quality</td>\n",
       "      <td>1</td>\n",
       "      <td>1</td>\n",
       "    </tr>\n",
       "    <tr>\n",
       "      <th>592</th>\n",
       "      <td>nicely made</td>\n",
       "      <td>1</td>\n",
       "      <td>1</td>\n",
       "    </tr>\n",
       "    <tr>\n",
       "      <th>593</th>\n",
       "      <td>really cool son red white blue bedroom love cu...</td>\n",
       "      <td>1</td>\n",
       "      <td>1</td>\n",
       "    </tr>\n",
       "    <tr>\n",
       "      <th>594</th>\n",
       "      <td>dont hang rod well</td>\n",
       "      <td>0</td>\n",
       "      <td>1</td>\n",
       "    </tr>\n",
       "    <tr>\n",
       "      <th>595</th>\n",
       "      <td>material beautiful design love</td>\n",
       "      <td>1</td>\n",
       "      <td>1</td>\n",
       "    </tr>\n",
       "    <tr>\n",
       "      <th>596</th>\n",
       "      <td>nice love</td>\n",
       "      <td>1</td>\n",
       "      <td>1</td>\n",
       "    </tr>\n",
       "    <tr>\n",
       "      <th>597</th>\n",
       "      <td>everyone love friend family</td>\n",
       "      <td>1</td>\n",
       "      <td>1</td>\n",
       "    </tr>\n",
       "    <tr>\n",
       "      <th>598</th>\n",
       "      <td>absolutely perfect probably order another</td>\n",
       "      <td>1</td>\n",
       "      <td>1</td>\n",
       "    </tr>\n",
       "  </tbody>\n",
       "</table>\n",
       "</div>"
      ],
      "text/plain": [
       "                                                Review  real  predict\n",
       "589                                               cool     1        1\n",
       "590                  quality curtain beautiful picture     1        1\n",
       "591                                      great quality     1        1\n",
       "592                                        nicely made     1        1\n",
       "593  really cool son red white blue bedroom love cu...     1        1\n",
       "594                                 dont hang rod well     0        1\n",
       "595                     material beautiful design love     1        1\n",
       "596                                          nice love     1        1\n",
       "597                        everyone love friend family     1        1\n",
       "598          absolutely perfect probably order another     1        1"
      ]
     },
     "execution_count": 53,
     "metadata": {},
     "output_type": "execute_result"
    }
   ],
   "source": [
    "number=random.randint(0,996)\n",
    "data=pd.DataFrame(X[number:number+10],columns=[\"Review\"])\n",
    "data[\"real\"]=y[number:number+10]\n",
    "data[\"predict\"]=log_model.predict(tf_idf.fit(x_train).transform(data[\"Review\"].values))\n",
    "data"
   ]
  },
  {
   "cell_type": "code",
   "execution_count": 33,
   "id": "77cb3c0e-898e-4f4b-a28e-c2e0193e1593",
   "metadata": {},
   "outputs": [
    {
     "data": {
      "text/plain": [
       "0.9089800910012682"
      ]
     },
     "execution_count": 33,
     "metadata": {},
     "output_type": "execute_result"
    }
   ],
   "source": [
    "# Random Forest Classifier\n",
    "rf_model=RandomForestClassifier().fit(x_train_tf_idf,y_train)\n",
    "cross_val_score(rf_model,\n",
    "                x_train_tf_idf,\n",
    "                y_train,\n",
    "                scoring=\"accuracy\",\n",
    "                cv=5,\n",
    "                n_jobs=-1).mean()"
   ]
  },
  {
   "cell_type": "code",
   "execution_count": 34,
   "id": "08784a97-a4c8-4310-80a0-d6ffccd04bc7",
   "metadata": {},
   "outputs": [
    {
     "name": "stdout",
     "output_type": "stream",
     "text": [
      "              precision    recall  f1-score   support\n",
      "\n",
      "           0       0.64      0.84      0.73       167\n",
      "           1       0.98      0.94      0.96      1236\n",
      "\n",
      "    accuracy                           0.93      1403\n",
      "   macro avg       0.81      0.89      0.84      1403\n",
      "weighted avg       0.94      0.93      0.93      1403\n",
      "\n"
     ]
    }
   ],
   "source": [
    "y_pred=rf_model.predict(x_test_tf_idf)\n",
    "print(classification_report(y_pred,y_test))"
   ]
  },
  {
   "cell_type": "code",
   "execution_count": 41,
   "id": "be2de95f-499a-4ec3-aca8-15fee302773c",
   "metadata": {},
   "outputs": [
    {
     "data": {
      "text/html": [
       "<div>\n",
       "<style scoped>\n",
       "    .dataframe tbody tr th:only-of-type {\n",
       "        vertical-align: middle;\n",
       "    }\n",
       "\n",
       "    .dataframe tbody tr th {\n",
       "        vertical-align: top;\n",
       "    }\n",
       "\n",
       "    .dataframe thead th {\n",
       "        text-align: right;\n",
       "    }\n",
       "</style>\n",
       "<table border=\"1\" class=\"dataframe\">\n",
       "  <thead>\n",
       "    <tr style=\"text-align: right;\">\n",
       "      <th></th>\n",
       "      <th>Review</th>\n",
       "      <th>real</th>\n",
       "      <th>predict</th>\n",
       "    </tr>\n",
       "  </thead>\n",
       "  <tbody>\n",
       "    <tr>\n",
       "      <th>450</th>\n",
       "      <td>curtain better expected walk room look like oc...</td>\n",
       "      <td>1</td>\n",
       "      <td>1</td>\n",
       "    </tr>\n",
       "    <tr>\n",
       "      <th>451</th>\n",
       "      <td>ordered teen daughter room different term woul...</td>\n",
       "      <td>1</td>\n",
       "      <td>1</td>\n",
       "    </tr>\n",
       "    <tr>\n",
       "      <th>452</th>\n",
       "      <td>pretty even light behind</td>\n",
       "      <td>1</td>\n",
       "      <td>1</td>\n",
       "    </tr>\n",
       "    <tr>\n",
       "      <th>453</th>\n",
       "      <td>nice curtain received allot compliment</td>\n",
       "      <td>1</td>\n",
       "      <td>1</td>\n",
       "    </tr>\n",
       "    <tr>\n",
       "      <th>454</th>\n",
       "      <td>hang closet bedroom love</td>\n",
       "      <td>1</td>\n",
       "      <td>1</td>\n",
       "    </tr>\n",
       "    <tr>\n",
       "      <th>455</th>\n",
       "      <td>good</td>\n",
       "      <td>1</td>\n",
       "      <td>1</td>\n",
       "    </tr>\n",
       "    <tr>\n",
       "      <th>456</th>\n",
       "      <td>washed looking big hope going work disappointed</td>\n",
       "      <td>0</td>\n",
       "      <td>0</td>\n",
       "    </tr>\n",
       "    <tr>\n",
       "      <th>457</th>\n",
       "      <td>look fantastic especially placed true picture</td>\n",
       "      <td>1</td>\n",
       "      <td>1</td>\n",
       "    </tr>\n",
       "    <tr>\n",
       "      <th>458</th>\n",
       "      <td>disappointment purchase photo amazon website g...</td>\n",
       "      <td>1</td>\n",
       "      <td>1</td>\n",
       "    </tr>\n",
       "    <tr>\n",
       "      <th>459</th>\n",
       "      <td></td>\n",
       "      <td>0</td>\n",
       "      <td>0</td>\n",
       "    </tr>\n",
       "  </tbody>\n",
       "</table>\n",
       "</div>"
      ],
      "text/plain": [
       "                                                Review  real  predict\n",
       "450  curtain better expected walk room look like oc...     1        1\n",
       "451  ordered teen daughter room different term woul...     1        1\n",
       "452                           pretty even light behind     1        1\n",
       "453             nice curtain received allot compliment     1        1\n",
       "454                           hang closet bedroom love     1        1\n",
       "455                                               good     1        1\n",
       "456    washed looking big hope going work disappointed     0        0\n",
       "457      look fantastic especially placed true picture     1        1\n",
       "458  disappointment purchase photo amazon website g...     1        1\n",
       "459                                                        0        0"
      ]
     },
     "execution_count": 41,
     "metadata": {},
     "output_type": "execute_result"
    }
   ],
   "source": [
    "number=random.randint(0,996)\n",
    "data=pd.DataFrame(X[number:number+10],columns=[\"Review\"])\n",
    "data[\"real\"]=y[number:number+10]\n",
    "data[\"predict\"]=rf_model.predict(tf_idf.fit(x_train).transform(data[\"Review\"].values))\n",
    "data"
   ]
  },
  {
   "cell_type": "code",
   "execution_count": null,
   "id": "dc76eae7-78cc-44de-8711-fd268fda2a37",
   "metadata": {},
   "outputs": [],
   "source": []
  }
 ],
 "metadata": {
  "kernelspec": {
   "display_name": "Python 3 (ipykernel)",
   "language": "python",
   "name": "python3"
  },
  "language_info": {
   "codemirror_mode": {
    "name": "ipython",
    "version": 3
   },
   "file_extension": ".py",
   "mimetype": "text/x-python",
   "name": "python",
   "nbconvert_exporter": "python",
   "pygments_lexer": "ipython3",
   "version": "3.11.5"
  }
 },
 "nbformat": 4,
 "nbformat_minor": 5
}
